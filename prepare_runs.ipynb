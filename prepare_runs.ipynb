{
 "cells": [
  {
   "cell_type": "code",
   "execution_count": 15,
   "metadata": {},
   "outputs": [],
   "source": [
    "import os\n",
    "import copy\n",
    "from pathlib import Path\n",
    "from evcouplings.align import read_fasta, parse_header\n",
    "from evcouplings.utils import read_config_file\n",
    "from evcouplings.utils.app import run_jobs, unroll_config"
   ]
  },
  {
   "cell_type": "code",
   "execution_count": 2,
   "metadata": {},
   "outputs": [],
   "source": [
    "master_config = read_config_file('config.yml')\n",
    "alignments_folder = 'prosite_alignments'\n",
    "alignment_files = [f for f in os.listdir(alignments_folder) if os.path.isfile(os.path.join(alignments_folder, f))]"
   ]
  },
  {
   "cell_type": "code",
   "execution_count": 22,
   "metadata": {},
   "outputs": [
    {
     "ename": "RuntimeError",
     "evalue": "Unsuccessful execution of Command(cb89cfff7-907f-4264-9aba-6c5ba4eb7f03) (EXIT!=0) with error: /bin/sh: sbatch: command not found\n",
     "traceback": [
      "\u001b[0;31m---------------------------------------------------------------------------\u001b[0m",
      "\u001b[0;31mRuntimeError\u001b[0m                              Traceback (most recent call last)",
      "\u001b[0;32m~/miniconda3/lib/python3.6/site-packages/evcouplings/utils/batch.py\u001b[0m in \u001b[0;36msubmit\u001b[0;34m(self, command, dependent)\u001b[0m\n\u001b[1;32m    419\u001b[0m                 raise RuntimeError(\n\u001b[0;32m--> 420\u001b[0;31m                     \u001b[0;34m\"Unsuccessful execution of \"\u001b[0m \u001b[0;34m+\u001b[0m \u001b[0mrepr\u001b[0m\u001b[0;34m(\u001b[0m\u001b[0mcommand\u001b[0m\u001b[0;34m)\u001b[0m \u001b[0;34m+\u001b[0m \u001b[0;34m\" (EXIT!=0) with error: \"\u001b[0m \u001b[0;34m+\u001b[0m \u001b[0mstde\u001b[0m\u001b[0;34m\u001b[0m\u001b[0;34m\u001b[0m\u001b[0m\n\u001b[0m\u001b[1;32m    421\u001b[0m                 )\n",
      "\u001b[0;31mRuntimeError\u001b[0m: Unsuccessful execution of Command(cb89cfff7-907f-4264-9aba-6c5ba4eb7f03) (EXIT!=0) with error: /bin/sh: sbatch: command not found\n",
      "\nDuring handling of the above exception, another exception occurred:\n",
      "\u001b[0;31mRuntimeError\u001b[0m                              Traceback (most recent call last)",
      "\u001b[0;32m<ipython-input-22-6cea7b30ef97>\u001b[0m in \u001b[0;36m<module>\u001b[0;34m\u001b[0m\n\u001b[1;32m     17\u001b[0m \u001b[0;34m\u001b[0m\u001b[0m\n\u001b[1;32m     18\u001b[0m     \u001b[0mconf\u001b[0m \u001b[0;34m=\u001b[0m \u001b[0munroll_config\u001b[0m\u001b[0;34m(\u001b[0m\u001b[0mcurrent_config\u001b[0m\u001b[0;34m)\u001b[0m\u001b[0;34m\u001b[0m\u001b[0;34m\u001b[0m\u001b[0m\n\u001b[0;32m---> 19\u001b[0;31m     \u001b[0mrun_jobs\u001b[0m\u001b[0;34m(\u001b[0m\u001b[0mconf\u001b[0m\u001b[0;34m,\u001b[0m \u001b[0mcurrent_config\u001b[0m\u001b[0;34m,\u001b[0m \u001b[0moverwrite\u001b[0m\u001b[0;34m=\u001b[0m\u001b[0;32mTrue\u001b[0m\u001b[0;34m)\u001b[0m\u001b[0;34m\u001b[0m\u001b[0;34m\u001b[0m\u001b[0m\n\u001b[0m",
      "\u001b[0;32m~/miniconda3/lib/python3.6/site-packages/evcouplings/utils/app.py\u001b[0m in \u001b[0;36mrun_jobs\u001b[0;34m(configs, global_config, overwrite, workdir)\u001b[0m\n\u001b[1;32m    395\u001b[0m \u001b[0;34m\u001b[0m\u001b[0m\n\u001b[1;32m    396\u001b[0m         \u001b[0;31m# finally, submit job\u001b[0m\u001b[0;34m\u001b[0m\u001b[0;34m\u001b[0m\u001b[0;34m\u001b[0m\u001b[0m\n\u001b[0;32m--> 397\u001b[0;31m         \u001b[0msubmitter\u001b[0m\u001b[0;34m.\u001b[0m\u001b[0msubmit\u001b[0m\u001b[0;34m(\u001b[0m\u001b[0mcmd\u001b[0m\u001b[0;34m)\u001b[0m\u001b[0;34m\u001b[0m\u001b[0;34m\u001b[0m\u001b[0m\n\u001b[0m\u001b[1;32m    398\u001b[0m \u001b[0;34m\u001b[0m\u001b[0m\n\u001b[1;32m    399\u001b[0m     \u001b[0;31m# submit final summarizer\u001b[0m\u001b[0;34m\u001b[0m\u001b[0;34m\u001b[0m\u001b[0;34m\u001b[0m\u001b[0m\n",
      "\u001b[0;32m~/miniconda3/lib/python3.6/site-packages/evcouplings/utils/batch.py\u001b[0m in \u001b[0;36msubmit\u001b[0;34m(self, command, dependent)\u001b[0m\n\u001b[1;32m    421\u001b[0m                 )\n\u001b[1;32m    422\u001b[0m         \u001b[0;32mexcept\u001b[0m \u001b[0mException\u001b[0m \u001b[0;32mas\u001b[0m \u001b[0me\u001b[0m\u001b[0;34m:\u001b[0m\u001b[0;34m\u001b[0m\u001b[0;34m\u001b[0m\u001b[0m\n\u001b[0;32m--> 423\u001b[0;31m             \u001b[0;32mraise\u001b[0m \u001b[0mRuntimeError\u001b[0m\u001b[0;34m(\u001b[0m\u001b[0me\u001b[0m\u001b[0;34m)\u001b[0m\u001b[0;34m\u001b[0m\u001b[0;34m\u001b[0m\u001b[0m\n\u001b[0m\u001b[1;32m    424\u001b[0m         \u001b[0;31m# get job id and submit to db\u001b[0m\u001b[0;34m\u001b[0m\u001b[0;34m\u001b[0m\u001b[0;34m\u001b[0m\u001b[0m\n\u001b[1;32m    425\u001b[0m         \u001b[0mjob_id\u001b[0m \u001b[0;34m=\u001b[0m \u001b[0mself\u001b[0m\u001b[0;34m.\u001b[0m\u001b[0m_get_job_id\u001b[0m\u001b[0;34m(\u001b[0m\u001b[0mstdo\u001b[0m\u001b[0;34m)\u001b[0m\u001b[0;34m\u001b[0m\u001b[0;34m\u001b[0m\u001b[0m\n",
      "\u001b[0;31mRuntimeError\u001b[0m: Unsuccessful execution of Command(cb89cfff7-907f-4264-9aba-6c5ba4eb7f03) (EXIT!=0) with error: /bin/sh: sbatch: command not found\n"
     ],
     "output_type": "error"
    }
   ],
   "source": [
    "for alignment_file in alignment_files:\n",
    "    alignment_path = os.path.join(alignments_folder, alignment_file)\n",
    "    alignment_path = str(Path(alignment_path).resolve())\n",
    "    alignment_name = os.path.splitext(alignment_file)[0]\n",
    "    alignment_binary = open(alignment_path)\n",
    "    alignment = read_fasta(alignment_binary)\n",
    "    \n",
    "    first_sequence_id = parse_header(next(alignment)[0])\n",
    "    \n",
    "    directory = 'runs/{}'.format(alignment_name)\n",
    "    current_config = copy.deepcopy(master_config)\n",
    "    os.mkdir(directory)\n",
    "    \n",
    "    current_config['global']['prefix'] = directory\n",
    "    current_config['global']['sequence_id'] = first_sequence_id[0]\n",
    "    current_config['align']['input_alignment'] = alignment_path\n",
    "    \n",
    "    conf = unroll_config(current_config)\n",
    "    run_jobs(conf, current_config, overwrite=True)"
   ]
  }
 ],
 "metadata": {
  "kernelspec": {
   "display_name": "Python 3",
   "language": "python",
   "name": "python3"
  },
  "language_info": {
   "codemirror_mode": {
    "name": "ipython",
    "version": 3
   },
   "file_extension": ".py",
   "mimetype": "text/x-python",
   "name": "python",
   "nbconvert_exporter": "python",
   "pygments_lexer": "ipython3",
   "version": "3.6.3"
  }
 },
 "nbformat": 4,
 "nbformat_minor": 2
}
