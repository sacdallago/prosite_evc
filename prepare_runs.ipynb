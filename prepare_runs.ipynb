{
 "cells": [
  {
   "cell_type": "code",
   "execution_count": 9,
   "metadata": {},
   "outputs": [],
   "source": [
    "import os\n",
    "import copy\n",
    "from pathlib import Path\n",
    "from evcouplings.utils import read_config_file, write_config_file"
   ]
  },
  {
   "cell_type": "code",
   "execution_count": 10,
   "metadata": {},
   "outputs": [],
   "source": [
    "master_config = read_config_file('config.txt')\n",
    "alignments_folder = 'prosite_alignments'\n",
    "alignment_files = [f for f in os.listdir(alignments_folder) if os.path.isfile(os.path.join(alignments_folder, f))]"
   ]
  },
  {
   "cell_type": "code",
   "execution_count": 12,
   "metadata": {},
   "outputs": [],
   "source": [
    "for alignment_file in alignment_files:\n",
    "    alignment_path = os.path.join(alignments_folder, alignment_file)\n",
    "    alignment_path = str(Path(alignment_path).resolve())\n",
    "    alignment_name = os.path.splitext(alignment_file)[0]\n",
    "    \n",
    "    directory = 'runs/{}'.format(alignment_name)\n",
    "    current_config = copy.deepcopy(master_config)\n",
    "    os.mkdir(directory)\n",
    "    \n",
    "    current_config['global']['prefix'] = str(Path(directory).resolve())\n",
    "    current_config['global']['sequence_id'] = alignment_name\n",
    "    current_config['align']['input_alignment'] = alignment_path\n",
    "    write_config_file(directory + \"/config.txt\", current_config)"
   ]
  }
 ],
 "metadata": {
  "kernelspec": {
   "display_name": "Python 3",
   "language": "python",
   "name": "python3"
  },
  "language_info": {
   "codemirror_mode": {
    "name": "ipython",
    "version": 3
   },
   "file_extension": ".py",
   "mimetype": "text/x-python",
   "name": "python",
   "nbconvert_exporter": "python",
   "pygments_lexer": "ipython3",
   "version": "3.6.3"
  }
 },
 "nbformat": 4,
 "nbformat_minor": 2
}
